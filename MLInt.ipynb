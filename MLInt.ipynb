{
 "cells": [
  {
   "cell_type": "code",
   "execution_count": 64,
   "metadata": {},
   "outputs": [],
   "source": [
    "import requests\n",
    "import json\n",
    "r = requests.get('http://depressionmqp.wpi.edu:8080/getids')\n",
    "list_of_ids = r.json()"
   ]
  },
  {
   "cell_type": "code",
   "execution_count": 131,
   "metadata": {
    "scrolled": true
   },
   "outputs": [
    {
     "data": {
      "text/plain": [
       "'99676733'"
      ]
     },
     "execution_count": 131,
     "metadata": {},
     "output_type": "execute_result"
    }
   ],
   "source": [
    "# returns id using indices as string \n",
    "id1 = list_of_ids[0].encode('ascii','ignore')\n",
    "id1"
   ]
  },
  {
   "cell_type": "code",
   "execution_count": 134,
   "metadata": {
    "scrolled": true
   },
   "outputs": [
    {
     "data": {
      "text/plain": [
       "{u'_id': u'2',\n",
       " u'address': u'66666999',\n",
       " u'body': u'Bogo',\n",
       " u'creator': u'com.android.messaging',\n",
       " u'date': u'1505448177179',\n",
       " u'date_sent': u'0',\n",
       " u'error_code': u'0',\n",
       " u'locked': u'0',\n",
       " u'read': u'1',\n",
       " u'seen': u'1',\n",
       " u'status': u'-1',\n",
       " u'sub_id': u'1',\n",
       " u'thread_id': u'2',\n",
       " u'type': u'2'}"
      ]
     },
     "execution_count": 134,
     "metadata": {},
     "output_type": "execute_result"
    }
   ],
   "source": [
    "v = requests.get('http://depressionmqp.wpi.edu:8080/getdata?id=' + id1 + '&type=text')\n",
    "v1 = v.json()[0].encode('ascii','ignore')\n",
    "d = json.loads(v1)\n",
    "d"
   ]
  },
  {
   "cell_type": "code",
   "execution_count": 66,
   "metadata": {},
   "outputs": [
    {
     "data": {
      "text/plain": [
       "'2'"
      ]
     },
     "execution_count": 66,
     "metadata": {},
     "output_type": "execute_result"
    }
   ],
   "source": [
    "d['_id'].encode('ascii','ignore')\n"
   ]
  },
  {
   "cell_type": "code",
   "execution_count": 82,
   "metadata": {
    "scrolled": true
   },
   "outputs": [],
   "source": [
    "\n",
    "list_of_types = ['text','log','contact','calender','file','tweet']\n",
    "\n",
    "r = requests.get('http://depressionmqp.wpi.edu:8080/getids')\n",
    "list_of_ids = r.json()\n",
    "\n",
    "#id1 = list_of_ids[0].encode('ascii','ignore')\n",
    "\n",
    "number_cols = len(list_of_types)\n",
    "number_rows = len(list_of_ids)\n",
    "list_of_jsons = [[0] * number_cols for i in range(number_rows)]\n",
    "\n",
    "for i in range(0,number_rows):\n",
    "    for j in range(0,number_cols):\n",
    "        temp = requests.get('http://depressionmqp.wpi.edu:8080/getdata?id=' + list_of_ids[i] + '&type=' + list_of_types[j])\n",
    "        list_of_jsons[i][j] = temp"
   ]
  },
  {
   "cell_type": "code",
   "execution_count": 143,
   "metadata": {},
   "outputs": [
    {
     "data": {
      "text/plain": [
       "2"
      ]
     },
     "execution_count": 143,
     "metadata": {},
     "output_type": "execute_result"
    }
   ],
   "source": [
    "temp = requests.get('http://depressionmqp.wpi.edu:8080/getdata?id=' + list_of_ids[0] + '&type=' + list_of_types[0])\n",
    "len(temp.json())\n"
   ]
  },
  {
   "cell_type": "code",
   "execution_count": 159,
   "metadata": {},
   "outputs": [],
   "source": [
    "# how u get the message\n",
    "# json.loads(list_of_jsons[0][0].json()[0])"
   ]
  }
 ],
 "metadata": {
  "kernelspec": {
   "display_name": "Python 2",
   "language": "python",
   "name": "python2"
  },
  "language_info": {
   "codemirror_mode": {
    "name": "ipython",
    "version": 2
   },
   "file_extension": ".py",
   "mimetype": "text/x-python",
   "name": "python",
   "nbconvert_exporter": "python",
   "pygments_lexer": "ipython2",
   "version": "2.7.13"
  }
 },
 "nbformat": 4,
 "nbformat_minor": 2
}
