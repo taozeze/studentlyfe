{
 "cells": [
  {
   "cell_type": "code",
   "execution_count": 31,
   "metadata": {},
   "outputs": [
    {
     "name": "stdout",
     "output_type": "stream",
     "text": [
      "There aint no user # 06 here\n",
      "There aint no user # 11 here\n",
      "There aint no user # 21 here\n",
      "There aint no user # 26 here\n",
      "There aint no user # 28 here\n",
      "There aint no user # 29 here\n",
      "There aint no user # 37 here\n",
      "There aint no user # 38 here\n",
      "There aint no user # 40 here\n",
      "There aint no user # 48 here\n",
      "There aint no user # 55 here\n"
     ]
    }
   ],
   "source": [
    "import pandas as pd\n",
    "import numpy as np\n",
    "import math\n",
    "\n",
    "# 1->'01' 25->'25'\n",
    "def doubleDigitizer(x):\n",
    "    if x < 10:\n",
    "        return '0' + str(x);\n",
    "    else:\n",
    "        return str(x);\n",
    "\n",
    "# here are 60 users from gps_u00 to gps_u59\n",
    "# we populate df_collection with every gps data for every user\n",
    "df_collection = {}\n",
    "for i in range(0,60):\n",
    "    ddi = doubleDigitizer(i)\n",
    "    try:\n",
    "        df_collection[ddi] = pd.read_csv('dataset/sms/sms_u' + ddi + '.csv')\n",
    "    except IOError:\n",
    "        print \"There aint no user # \" + ddi + \" here\""
   ]
  },
  {
   "cell_type": "code",
   "execution_count": 33,
   "metadata": {},
   "outputs": [],
   "source": [
    "from datetime import datetime\n",
    "\n",
    "def timeStampToDatetime(ts):\n",
    "    return datetime.utcfromtimestamp(float(ts))\n",
    "\n",
    "# outputs datetime.datetime(2013, 3, 24, 4, 31, 22)\n",
    "# that's for year, month, day, hour, minute, second"
   ]
  },
  {
   "cell_type": "code",
   "execution_count": 28,
   "metadata": {},
   "outputs": [
    {
     "data": {
      "text/plain": [
       "66"
      ]
     },
     "execution_count": 28,
     "metadata": {},
     "output_type": "execute_result"
    }
   ],
   "source": [
    "# int1 is first time, int2 is last time, returns days elapsed in between\n",
    "def daysInBetween(int1, int2):\n",
    "    secs = int2 - int1\n",
    "    return secs/86400;\n",
    "\n",
    "# internet says 66\n",
    "daysInBetween(1364099009, 1369833786)"
   ]
  },
  {
   "cell_type": "code",
   "execution_count": 61,
   "metadata": {},
   "outputs": [
    {
     "data": {
      "text/plain": [
       "22"
      ]
     },
     "execution_count": 61,
     "metadata": {},
     "output_type": "execute_result"
    }
   ],
   "source": [
    "def dailySmsFreq(X):\n",
    "    ts = X['timestamp']\n",
    "    return (ts.size)/daysInBetween(ts[0], ts[ts.size-1]);\n",
    "\n",
    "dailySmsFreq(df_collection['00'])"
   ]
  },
  {
   "cell_type": "code",
   "execution_count": 56,
   "metadata": {},
   "outputs": [
    {
     "data": {
      "text/plain": [
       "0       1364099482\n",
       "1       1363969836\n",
       "2       1363969836\n",
       "3       1363969836\n",
       "4       1363969836\n",
       "5       1363969836\n",
       "6       1363969836\n",
       "7       1363969836\n",
       "8       1363969836\n",
       "9       1363969836\n",
       "10      1363969836\n",
       "11      1363969836\n",
       "12      1363969836\n",
       "13      1363969836\n",
       "14      1363969836\n",
       "15      1363969836\n",
       "16      1363969836\n",
       "17      1363969836\n",
       "18      1363969836\n",
       "19      1363969836\n",
       "20      1363969836\n",
       "21      1363969836\n",
       "22      1363969836\n",
       "23      1363969836\n",
       "24      1363969836\n",
       "25      1363969836\n",
       "26      1363969836\n",
       "27      1363969836\n",
       "28      1363969836\n",
       "29      1363969836\n",
       "           ...    \n",
       "1834    1371253480\n",
       "1835    1371246280\n",
       "1836    1371253947\n",
       "1837    1371249880\n",
       "1838    1371267880\n",
       "1839    1371239080\n",
       "1840    1371231880\n",
       "1841    1371224680\n",
       "1842    1371235480\n",
       "1843    1371260680\n",
       "1844    1371242680\n",
       "1845    1371271480\n",
       "1846    1371275080\n",
       "1847    1371278680\n",
       "1848    1371282280\n",
       "1849    1371285880\n",
       "1850    1371289480\n",
       "1851    1371293080\n",
       "1852    1371296680\n",
       "1853    1371300280\n",
       "1854    1371303880\n",
       "1855    1371332680\n",
       "1856    1371332680\n",
       "1857    1371332680\n",
       "1858    1371332680\n",
       "1859    1371332680\n",
       "1860    1371332680\n",
       "1861    1371332680\n",
       "1862    1371332680\n",
       "1863    1371332680\n",
       "Name: timestamp, Length: 1864, dtype: int64"
      ]
     },
     "execution_count": 56,
     "metadata": {},
     "output_type": "execute_result"
    }
   ],
   "source": [
    "df_collection['00']['timestamp']"
   ]
  },
  {
   "cell_type": "code",
   "execution_count": 62,
   "metadata": {},
   "outputs": [
    {
     "name": "stdout",
     "output_type": "stream",
     "text": [
      "[[  22.]\n",
      " [  22.]\n",
      " [  57.]\n",
      " [  21.]\n",
      " [  24.]\n",
      " [  22.]\n",
      " [  nan]\n",
      " [  23.]\n",
      " [  62.]\n",
      " [  22.]\n",
      " [  23.]\n",
      " [  nan]\n",
      " [  40.]\n",
      " [  16.]\n",
      " [  19.]\n",
      " [  11.]\n",
      " [  22.]\n",
      " [  23.]\n",
      " [  21.]\n",
      " [  23.]\n",
      " [  19.]\n",
      " [  nan]\n",
      " [  19.]\n",
      " [  23.]\n",
      " [  32.]\n",
      " [  11.]\n",
      " [  nan]\n",
      " [  22.]\n",
      " [  nan]\n",
      " [  nan]\n",
      " [  22.]\n",
      " [  43.]\n",
      " [   4.]\n",
      " [  22.]\n",
      " [  14.]\n",
      " [  24.]\n",
      " [  23.]\n",
      " [  nan]\n",
      " [  nan]\n",
      " [  16.]\n",
      " [  nan]\n",
      " [  16.]\n",
      " [  19.]\n",
      " [  18.]\n",
      " [  21.]\n",
      " [  14.]\n",
      " [ 297.]\n",
      " [  14.]\n",
      " [  nan]\n",
      " [  35.]\n",
      " [  13.]\n",
      " [  21.]\n",
      " [  22.]\n",
      " [  21.]\n",
      " [  73.]\n",
      " [  nan]\n",
      " [  67.]\n",
      " [  76.]\n",
      " [  25.]\n",
      " [  64.]]\n"
     ]
    }
   ],
   "source": [
    "smsFeatureVector = np.zeros((60,1))\n",
    "\n",
    "for i in range(0,60):\n",
    "    ddi = doubleDigitizer(i)\n",
    "    try:\n",
    "        smsFeatureVector[i,0] = dailySmsFreq(df_collection[ddi])\n",
    "    except KeyError:\n",
    "        smsFeatureVector[i,0] = np.NaN\n",
    "    \n",
    "# takes a couple seconds\n",
    "print(smsFeatureVector)\n"
   ]
  }
 ],
 "metadata": {
  "kernelspec": {
   "display_name": "Python 2",
   "language": "python",
   "name": "python2"
  },
  "language_info": {
   "codemirror_mode": {
    "name": "ipython",
    "version": 2
   },
   "file_extension": ".py",
   "mimetype": "text/x-python",
   "name": "python",
   "nbconvert_exporter": "python",
   "pygments_lexer": "ipython2",
   "version": "2.7.13"
  }
 },
 "nbformat": 4,
 "nbformat_minor": 2
}
