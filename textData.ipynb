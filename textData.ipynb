{
 "cells": [
  {
   "cell_type": "code",
   "execution_count": 31,
   "metadata": {},
   "outputs": [
    {
     "name": "stdout",
     "output_type": "stream",
     "text": [
      "There aint no user # 06 here\n",
      "There aint no user # 11 here\n",
      "There aint no user # 21 here\n",
      "There aint no user # 26 here\n",
      "There aint no user # 28 here\n",
      "There aint no user # 29 here\n",
      "There aint no user # 37 here\n",
      "There aint no user # 38 here\n",
      "There aint no user # 40 here\n",
      "There aint no user # 48 here\n",
      "There aint no user # 55 here\n"
     ]
    }
   ],
   "source": [
    "import pandas as pd\n",
    "import numpy as np\n",
    "import math\n",
    "\n",
    "# 1->'01' 25->'25'\n",
    "def doubleDigitizer(x):\n",
    "    if x < 10:\n",
    "        return '0' + str(x);\n",
    "    else:\n",
    "        return str(x);\n",
    "\n",
    "# here are 60 users from gps_u00 to gps_u59\n",
    "# we populate df_collection with every gps data for every user\n",
    "df_collection = {}\n",
    "for i in range(0,60):\n",
    "    ddi = doubleDigitizer(i)\n",
    "    try:\n",
    "        df_collection[ddi] = pd.read_csv('dataset/sms/sms_u' + ddi + '.csv')\n",
    "    except IOError:\n",
    "        print \"There aint no user # \" + ddi + \" here\""
   ]
  },
  {
   "cell_type": "code",
   "execution_count": 33,
   "metadata": {},
   "outputs": [],
   "source": [
    "from datetime import datetime\n",
    "\n",
    "def timeStampToDatetime(ts):\n",
    "    return datetime.utcfromtimestamp(float(ts))\n",
    "\n",
    "# outputs datetime.datetime(2013, 3, 24, 4, 31, 22)\n",
    "# that's for year, month, day, hour, minute, second"
   ]
  },
  {
   "cell_type": "code",
   "execution_count": 28,
   "metadata": {},
   "outputs": [
    {
     "data": {
      "text/plain": [
       "66"
      ]
     },
     "execution_count": 28,
     "metadata": {},
     "output_type": "execute_result"
    }
   ],
   "source": [
    "# int1 is first time, int2 is last time, returns days elapsed in between\n",
    "def daysInBetween(int1, int2):\n",
    "    secs = int2 - int1\n",
    "    return secs/86400;\n",
    "\n",
    "# internet says 66\n",
    "daysInBetween(1364099009, 1369833786)"
   ]
  },
  {
   "cell_type": "code",
   "execution_count": 61,
   "metadata": {},
   "outputs": [
    {
     "data": {
      "text/plain": [
       "22"
      ]
     },
     "execution_count": 61,
     "metadata": {},
     "output_type": "execute_result"
    }
   ],
   "source": [
    "def dailySmsFreq(X):\n",
    "    ts = X['timestamp']\n",
    "    return (ts.size)/daysInBetween(ts[0], ts[ts.size-1]);\n",
    "\n",
    "dailySmsFreq(df_collection['00'])"
   ]
  },
  {
   "cell_type": "code",
   "execution_count": 62,
   "metadata": {},
   "outputs": [
    {
     "name": "stdout",
     "output_type": "stream",
     "text": [
      "[[  22.]\n",
      " [  22.]\n",
      " [  57.]\n",
      " [  21.]\n",
      " [  24.]\n",
      " [  22.]\n",
      " [  nan]\n",
      " [  23.]\n",
      " [  62.]\n",
      " [  22.]\n",
      " [  23.]\n",
      " [  nan]\n",
      " [  40.]\n",
      " [  16.]\n",
      " [  19.]\n",
      " [  11.]\n",
      " [  22.]\n",
      " [  23.]\n",
      " [  21.]\n",
      " [  23.]\n",
      " [  19.]\n",
      " [  nan]\n",
      " [  19.]\n",
      " [  23.]\n",
      " [  32.]\n",
      " [  11.]\n",
      " [  nan]\n",
      " [  22.]\n",
      " [  nan]\n",
      " [  nan]\n",
      " [  22.]\n",
      " [  43.]\n",
      " [   4.]\n",
      " [  22.]\n",
      " [  14.]\n",
      " [  24.]\n",
      " [  23.]\n",
      " [  nan]\n",
      " [  nan]\n",
      " [  16.]\n",
      " [  nan]\n",
      " [  16.]\n",
      " [  19.]\n",
      " [  18.]\n",
      " [  21.]\n",
      " [  14.]\n",
      " [ 297.]\n",
      " [  14.]\n",
      " [  nan]\n",
      " [  35.]\n",
      " [  13.]\n",
      " [  21.]\n",
      " [  22.]\n",
      " [  21.]\n",
      " [  73.]\n",
      " [  nan]\n",
      " [  67.]\n",
      " [  76.]\n",
      " [  25.]\n",
      " [  64.]]\n"
     ]
    }
   ],
   "source": [
    "smsFeatureVector = np.zeros((60,1))\n",
    "\n",
    "for i in range(0,60):\n",
    "    ddi = doubleDigitizer(i)\n",
    "    try:\n",
    "        smsFeatureVector[i,0] = dailySmsFreq(df_collection[ddi])\n",
    "    except KeyError:\n",
    "        smsFeatureVector[i,0] = np.NaN\n",
    "    \n",
    "# takes a couple seconds\n",
    "print(smsFeatureVector)\n"
   ]
  }
 ],
 "metadata": {
  "kernelspec": {
   "display_name": "Python 2",
   "language": "python",
   "name": "python2"
  },
  "language_info": {
   "codemirror_mode": {
    "name": "ipython",
    "version": 2
   },
   "file_extension": ".py",
   "mimetype": "text/x-python",
   "name": "python",
   "nbconvert_exporter": "python",
   "pygments_lexer": "ipython2",
   "version": "2.7.13"
  }
 },
 "nbformat": 4,
 "nbformat_minor": 2
}
