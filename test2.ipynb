{
 "cells": [
  {
   "cell_type": "code",
   "execution_count": 37,
   "metadata": {},
   "outputs": [],
   "source": [
    "import pandas as pd\n",
    "import math\n",
    "\n",
    "gps_u00 = pd.read_csv('dataset/sensing/gps/gps_u00.csv')\n"
   ]
  },
  {
   "cell_type": "code",
   "execution_count": 27,
   "metadata": {},
   "outputs": [
    {
     "data": {
      "text/plain": [
       "4316"
      ]
     },
     "execution_count": 27,
     "metadata": {},
     "output_type": "execute_result"
    }
   ],
   "source": [
    "a = gps_u00['time']\n",
    "\n",
    "a.size"
   ]
  },
  {
   "cell_type": "code",
   "execution_count": 31,
   "metadata": {},
   "outputs": [
    {
     "name": "stdout",
     "output_type": "stream",
     "text": [
      "1370045640\n",
      "1370046240\n",
      "1370046840\n",
      "1370047440\n",
      "1370048040\n",
      "1370048643\n"
     ]
    }
   ],
   "source": [
    "for i in range(4310,a.size):\n",
    "    print(a[i])"
   ]
  },
  {
   "cell_type": "code",
   "execution_count": 36,
   "metadata": {},
   "outputs": [
    {
     "data": {
      "text/plain": [
       "0.04469357832687978"
      ]
     },
     "execution_count": 36,
     "metadata": {},
     "output_type": "execute_result"
    }
   ],
   "source": [
    "def distBetweenTwoCoords(lat1,lon1,lat2,lon2):\n",
    "    \n",
    "    R = 6371 # Radius of Earth in km\n",
    "\n",
    "    dLat = math.radians(float(lat2) - float(lat1))\n",
    "    dLon = math.radians(float(lon2) - float(lon1))\n",
    "    lat1 = math.radians(float(lat1))\n",
    "    lat2 = math.radians(float(lat2))\n",
    "    \n",
    "    a = math.sin(dLat/2) * math.sin(dLat/2) + \\\n",
    "        math.cos(lat1) * math.cos(lat2) * math.sin(dLon/2) * math.sin(dLon/2)\n",
    "\n",
    "    c = 2 * math.atan2(math.sqrt(a), math.sqrt(1-a))\n",
    "\n",
    "    d = R * c # if want miles multiply by 0.621371\n",
    "\n",
    "    return d;\n",
    "\n",
    "distBetweenTwoCoords(43.7591346,-72.3292405, 43.759503,-72.32901795)"
   ]
  },
  {
   "cell_type": "code",
   "execution_count": 43,
   "metadata": {},
   "outputs": [
    {
     "name": "stdout",
     "output_type": "stream",
     "text": [
      "Total distance covered in meters is: 18645.3259076\n"
     ]
    }
   ],
   "source": [
    "#assumes input is DataFrame, with labeled latitute and longitude columns\n",
    "\n",
    "def totalDistCovered(X):\n",
    "    \n",
    "    sum = 0\n",
    "    \n",
    "    lats = X['latitude']\n",
    "    lons = X['longitude']\n",
    "    \n",
    "    for i in range(0,(lats.size-1)):\n",
    "        sum += distBetweenTwoCoords(lats[i],lons[i],lats[i+1],lons[i+1])\n",
    "                \n",
    "    return sum;\n",
    "                   \n",
    "print(\"Total distance covered in meters is: \" + str(totalDistCovered(gps_u00)))\n",
    "    \n",
    "    "
   ]
  }
 ],
 "metadata": {
  "kernelspec": {
   "display_name": "Python 2",
   "language": "python",
   "name": "python2"
  },
  "language_info": {
   "codemirror_mode": {
    "name": "ipython",
    "version": 2
   },
   "file_extension": ".py",
   "mimetype": "text/x-python",
   "name": "python",
   "nbconvert_exporter": "python",
   "pygments_lexer": "ipython2",
   "version": "2.7.13"
  }
 },
 "nbformat": 4,
 "nbformat_minor": 2
}
