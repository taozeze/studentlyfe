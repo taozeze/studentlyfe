{
 "cells": [
  {
   "cell_type": "code",
   "execution_count": 60,
   "metadata": {},
   "outputs": [
    {
     "name": "stdout",
     "output_type": "stream",
     "text": [
      "There aint no user # 06 here\n",
      "There aint no user # 11 here\n",
      "There aint no user # 21 here\n",
      "There aint no user # 26 here\n",
      "There aint no user # 28 here\n",
      "There aint no user # 29 here\n",
      "There aint no user # 37 here\n",
      "There aint no user # 38 here\n",
      "There aint no user # 40 here\n",
      "There aint no user # 48 here\n",
      "There aint no user # 55 here\n"
     ]
    }
   ],
   "source": [
    "import pandas as pd\n",
    "import numpy as np\n",
    "import math\n",
    "\n",
    "# 1->'01' 25->'25'\n",
    "def doubleDigitizer(x):\n",
    "    if x < 10:\n",
    "        return '0' + str(x);\n",
    "    else:\n",
    "        return str(x);\n",
    "\n",
    "# here are 60 users from gps_u00 to gps_u59\n",
    "# we populate df_collection with every gps data for every user\n",
    "df_collection = {}\n",
    "for i in range(0,60):\n",
    "    ddi = doubleDigitizer(i)\n",
    "    try:\n",
    "        df_collection[ddi] = pd.read_csv('dataset/sensing/gps/gps_u' + ddi + '.csv')\n",
    "    except IOError:\n",
    "        print \"There aint no user # \" + ddi + \" here\""
   ]
  },
  {
   "cell_type": "code",
   "execution_count": 70,
   "metadata": {},
   "outputs": [
    {
     "name": "stdout",
     "output_type": "stream",
     "text": [
      "1370045640\n",
      "1370046240\n",
      "1370046840\n",
      "1370047440\n",
      "1370048040\n",
      "1370048643\n"
     ]
    }
   ],
   "source": [
    "for i in range(4310,a.size):\n",
    "    print(a[i])"
   ]
  },
  {
   "cell_type": "code",
   "execution_count": 36,
   "metadata": {},
   "outputs": [
    {
     "data": {
      "text/plain": [
       "0.04469357832687978"
      ]
     },
     "execution_count": 36,
     "metadata": {},
     "output_type": "execute_result"
    }
   ],
   "source": [
    "def distBetweenTwoCoords(lat1,lon1,lat2,lon2):\n",
    "    \n",
    "    R = 6371 # Radius of Earth in km\n",
    "\n",
    "    dLat = math.radians(float(lat2) - float(lat1))\n",
    "    dLon = math.radians(float(lon2) - float(lon1))\n",
    "    lat1 = math.radians(float(lat1))\n",
    "    lat2 = math.radians(float(lat2))\n",
    "    \n",
    "    a = math.sin(dLat/2) * math.sin(dLat/2) + \\\n",
    "        math.cos(lat1) * math.cos(lat2) * math.sin(dLon/2) * math.sin(dLon/2)\n",
    "\n",
    "    c = 2 * math.atan2(math.sqrt(a), math.sqrt(1-a))\n",
    "\n",
    "    d = R * c # if want miles multiply by 0.621371\n",
    "\n",
    "    return d;\n",
    "\n",
    "# lets test it out. internet says its 45 meters.\n",
    "distBetweenTwoCoords(43.7591346,-72.3292405, 43.759503,-72.32901795)\n"
   ]
  },
  {
   "cell_type": "code",
   "execution_count": 72,
   "metadata": {},
   "outputs": [
    {
     "name": "stdout",
     "output_type": "stream",
     "text": [
      "Total distance covered in meters is: 18645.3259076\n"
     ]
    }
   ],
   "source": [
    "#assumes input is DataFrame, with labeled latitute and longitude columns\n",
    "\n",
    "def totalDistCovered(X):\n",
    "    \n",
    "    sum = 0\n",
    "    \n",
    "    lats = X['latitude']\n",
    "    lons = X['longitude']\n",
    "    \n",
    "    for i in range(0,(lats.size-1)):\n",
    "        sum += distBetweenTwoCoords(lats[i],lons[i],lats[i+1],lons[i+1])\n",
    "                \n",
    "    return sum;\n",
    "\n",
    "print(\"Total distance covered in meters is: \" + str(totalDistCovered(gps_u00)))"
   ]
  },
  {
   "cell_type": "code",
   "execution_count": 69,
   "metadata": {},
   "outputs": [
    {
     "name": "stdout",
     "output_type": "stream",
     "text": [
      "[[ 18645.32590758]\n",
      " [   258.07953425]\n",
      " [   651.07747563]\n",
      " [    82.58694636]\n",
      " [  2620.72730415]\n",
      " [   496.05950478]\n",
      " [            nan]\n",
      " [  2181.49296756]\n",
      " [   432.19221229]\n",
      " [   922.57532193]\n",
      " [   201.13259692]\n",
      " [            nan]\n",
      " [  5192.63873241]\n",
      " [  1196.84622336]\n",
      " [   525.1211226 ]\n",
      " [  1337.42854154]\n",
      " [   222.42195352]\n",
      " [   138.09617817]\n",
      " [   484.27958412]\n",
      " [   387.21975881]\n",
      " [    62.46069588]\n",
      " [            nan]\n",
      " [  8558.74284764]\n",
      " [    79.46778252]\n",
      " [   137.13537954]\n",
      " [  1830.64829416]\n",
      " [            nan]\n",
      " [   114.04914811]\n",
      " [            nan]\n",
      " [            nan]\n",
      " [  4500.95222712]\n",
      " [  2568.40331655]\n",
      " [   606.39260532]\n",
      " [   114.76534395]\n",
      " [   666.95061552]\n",
      " [   367.81827295]\n",
      " [ 14114.91539392]\n",
      " [            nan]\n",
      " [            nan]\n",
      " [   202.12251963]\n",
      " [            nan]\n",
      " [    98.36527816]\n",
      " [   729.5528808 ]\n",
      " [  2027.35342061]\n",
      " [   417.32053742]\n",
      " [  1131.14220773]\n",
      " [   880.88859546]\n",
      " [   652.24234916]\n",
      " [            nan]\n",
      " [  1513.05511942]\n",
      " [   402.08700477]\n",
      " [  1353.74981069]\n",
      " [   705.14784968]\n",
      " [   579.26189848]\n",
      " [  4884.86018952]\n",
      " [            nan]\n",
      " [  2925.80269141]\n",
      " [  3789.65800949]\n",
      " [   906.91812224]\n",
      " [ 20699.00962679]]\n"
     ]
    }
   ],
   "source": [
    "gpsFeatureVector = np.zeros((60,1))\n",
    "\n",
    "for i in range(0,60):\n",
    "    ddi = doubleDigitizer(i)\n",
    "    try:\n",
    "        gpsFeatureVector[i,0] = totalDistCovered(df_collection[ddi])\n",
    "    except KeyError:\n",
    "        gpsFeatureVector[i,0] = np.NaN\n",
    "    \n",
    "# takes a couple seconds\n",
    "print(gpsFeatureVector)"
   ]
  }
 ],
 "metadata": {
  "kernelspec": {
   "display_name": "Python 2",
   "language": "python",
   "name": "python2"
  },
  "language_info": {
   "codemirror_mode": {
    "name": "ipython",
    "version": 2
   },
   "file_extension": ".py",
   "mimetype": "text/x-python",
   "name": "python",
   "nbconvert_exporter": "python",
   "pygments_lexer": "ipython2",
   "version": "2.7.13"
  }
 },
 "nbformat": 4,
 "nbformat_minor": 2
}
